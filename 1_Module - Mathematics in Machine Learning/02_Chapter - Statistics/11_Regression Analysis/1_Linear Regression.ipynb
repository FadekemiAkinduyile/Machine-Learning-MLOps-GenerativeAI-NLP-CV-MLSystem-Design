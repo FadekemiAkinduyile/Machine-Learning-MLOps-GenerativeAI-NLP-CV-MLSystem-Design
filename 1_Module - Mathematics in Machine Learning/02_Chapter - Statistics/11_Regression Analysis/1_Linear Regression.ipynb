{
 "cells": [
  {
   "cell_type": "markdown",
   "id": "1d7f7b0e",
   "metadata": {},
   "source": [
    "# Machine Learning\n"
   ]
  },
  {
   "cell_type": "code",
   "execution_count": null,
   "id": "4fa3ae1c",
   "metadata": {},
   "outputs": [],
   "source": [
    "\n",
    "Supervised                             Unsupervised                          Reinforcement\n",
    "                                       \n",
    "Regression                             - clusturing                             reward and experience\n",
    "- Linear Regression                    - dimension reduction                - markov decision process \n",
    "                                       - anomaly detection\n",
    "Classification\n",
    "- Logistic Regression"
   ]
  },
  {
   "cell_type": "markdown",
   "id": "bb149f81",
   "metadata": {},
   "source": [
    "# Linear Regression with one variable"
   ]
  },
  {
   "cell_type": "code",
   "execution_count": null,
   "id": "3a04febd",
   "metadata": {},
   "outputs": [],
   "source": [
    "Linear - arranged in a straight line\n",
    "\n",
    "Regression - a technique to determine the statistical relationship b/w two or more variables."
   ]
  },
  {
   "cell_type": "code",
   "execution_count": null,
   "id": "bb2b2b40",
   "metadata": {},
   "outputs": [],
   "source": [
    "- sales forecasting\n",
    "- price optimization - e-commerce \n",
    "- credit card risk assesment\n",
    "- inventory management\n",
    "- real estate price prediction\n",
    "- healthcare - patient risk assisment\n",
    "- website traffic analysis"
   ]
  },
  {
   "cell_type": "code",
   "execution_count": null,
   "id": "0d4c1e21",
   "metadata": {},
   "outputs": [],
   "source": [
    "  X          Y\n",
    "area       price\n",
    "2500       800000\n",
    "3000       950000\n",
    "3200       1000000\n",
    "3600       1200000\n",
    "4000       1500000\n"
   ]
  },
  {
   "cell_type": "code",
   "execution_count": null,
   "id": "a2b97055",
   "metadata": {},
   "outputs": [],
   "source": [
    "y = mx + c\n",
    "\n",
    "800000 = m(2500) + c\n",
    "950000 = m(3000) + c\n",
    "\n",
    "m = 3000\n",
    "c = 4000\n",
    "\n",
    "y = 3000(x) + 4000   # principle equation\n",
    "\n",
    "y = 3000(5000) + 4000"
   ]
  },
  {
   "cell_type": "code",
   "execution_count": null,
   "id": "b920c15e",
   "metadata": {},
   "outputs": [],
   "source": [
    "import "
   ]
  }
 ],
 "metadata": {
  "kernelspec": {
   "display_name": "Python 3 (ipykernel)",
   "language": "python",
   "name": "python3"
  },
  "language_info": {
   "codemirror_mode": {
    "name": "ipython",
    "version": 3
   },
   "file_extension": ".py",
   "mimetype": "text/x-python",
   "name": "python",
   "nbconvert_exporter": "python",
   "pygments_lexer": "ipython3",
   "version": "3.9.12"
  }
 },
 "nbformat": 4,
 "nbformat_minor": 5
}
