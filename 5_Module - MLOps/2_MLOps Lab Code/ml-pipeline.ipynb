{
 "cells": [
  {
   "cell_type": "code",
   "execution_count": 1,
   "id": "cd0774bc-d462-4110-b567-79a35b84ea2f",
   "metadata": {},
   "outputs": [],
   "source": [
    "import pandas as pd\n",
    "import numpy as np\n",
    "from math import sqrt\n",
    "import warnings\n",
    "warnings.filterwarnings('ignore')\n",
    "\n",
    "from azureml.core.run import Run\n",
    "from azureml.core.experiment import Experiment\n",
    "from azureml.core.workspace import Workspace\n",
    "from azureml.core.model import Model\n",
    "from azureml.core.authentication import ServicePrincipalAuthentication\n",
    "from azureml.train.automl import AutoMLConfig\n",
    "import pickle\n",
    "from matplotlib import pyplot as plt\n",
    "from matplotlib.pyplot import figure\n",
    "import mlflow"
   ]
  },
  {
   "cell_type": "code",
   "execution_count": 2,
   "id": "7fdfccdf-ae7c-4a12-847f-99e2e96978e8",
   "metadata": {},
   "outputs": [],
   "source": [
    "from azureml.core import Workspace, Dataset\n",
    "\n",
    "subscription_id = '7a12af0d-a67c-4fb2-85ce-acb1b512790a'\n",
    "resource_group = 'MLOps'\n",
    "workspace_name = 'MLOps_WS'\n",
    "\n",
    "workspace = Workspace(subscription_id, resource_group, workspace_name)"
   ]
  },
  {
   "cell_type": "code",
   "execution_count": 3,
   "id": "338a701c-1595-42fe-a953-70ed57fa75ca",
   "metadata": {},
   "outputs": [],
   "source": [
    "# setup mlflow\n",
    "\n",
    "uri = workspace.get_mlflow_tracking_uri()\n",
    "\n",
    "mlflow.set_tracking_uri(uri)"
   ]
  },
  {
   "cell_type": "code",
   "execution_count": 4,
   "id": "d2a16236-0ed1-4ff4-918a-9adb2a5e8951",
   "metadata": {},
   "outputs": [
    {
     "name": "stdout",
     "output_type": "stream",
     "text": [
      "weather_ds_processed 1\n"
     ]
    }
   ],
   "source": [
    "dataset = Dataset.get_by_name(workspace, name='weather_ds_processed')\n",
    "\n",
    "print(dataset.name, dataset.version)"
   ]
  },
  {
   "cell_type": "code",
   "execution_count": 5,
   "id": "ec115fb1-a292-41a1-a7f6-e4f24926f11a",
   "metadata": {},
   "outputs": [
    {
     "data": {
      "text/html": [
       "<div>\n",
       "<style scoped>\n",
       "    .dataframe tbody tr th:only-of-type {\n",
       "        vertical-align: middle;\n",
       "    }\n",
       "\n",
       "    .dataframe tbody tr th {\n",
       "        vertical-align: top;\n",
       "    }\n",
       "\n",
       "    .dataframe thead th {\n",
       "        text-align: right;\n",
       "    }\n",
       "</style>\n",
       "<table border=\"1\" class=\"dataframe\">\n",
       "  <thead>\n",
       "    <tr style=\"text-align: right;\">\n",
       "      <th></th>\n",
       "      <th>Column1</th>\n",
       "      <th>Timestamp</th>\n",
       "      <th>Location</th>\n",
       "      <th>Temperature_C</th>\n",
       "      <th>Humidity</th>\n",
       "      <th>Wind_speed_kmph</th>\n",
       "      <th>Wind_bearing_degrees</th>\n",
       "      <th>Visibility_km</th>\n",
       "      <th>Pressure_millibars</th>\n",
       "      <th>Weather_condition</th>\n",
       "      <th>Future_Weather_Condition</th>\n",
       "    </tr>\n",
       "  </thead>\n",
       "  <tbody>\n",
       "    <tr>\n",
       "      <th>0</th>\n",
       "      <td>0</td>\n",
       "      <td>2006-03-31 22:00:00</td>\n",
       "      <td>Port of Turku, Finland</td>\n",
       "      <td>9.472222</td>\n",
       "      <td>0.89</td>\n",
       "      <td>14.1197</td>\n",
       "      <td>251</td>\n",
       "      <td>15.8263</td>\n",
       "      <td>1015.13</td>\n",
       "      <td>1</td>\n",
       "      <td>1.0</td>\n",
       "    </tr>\n",
       "    <tr>\n",
       "      <th>1</th>\n",
       "      <td>1</td>\n",
       "      <td>2006-03-31 23:00:00</td>\n",
       "      <td>Port of Turku, Finland</td>\n",
       "      <td>9.355556</td>\n",
       "      <td>0.86</td>\n",
       "      <td>14.2646</td>\n",
       "      <td>259</td>\n",
       "      <td>15.8263</td>\n",
       "      <td>1015.63</td>\n",
       "      <td>1</td>\n",
       "      <td>1.0</td>\n",
       "    </tr>\n",
       "    <tr>\n",
       "      <th>2</th>\n",
       "      <td>2</td>\n",
       "      <td>2006-04-01 00:00:00</td>\n",
       "      <td>Port of Turku, Finland</td>\n",
       "      <td>9.377778</td>\n",
       "      <td>0.89</td>\n",
       "      <td>3.9284</td>\n",
       "      <td>204</td>\n",
       "      <td>14.9569</td>\n",
       "      <td>1015.94</td>\n",
       "      <td>1</td>\n",
       "      <td>1.0</td>\n",
       "    </tr>\n",
       "    <tr>\n",
       "      <th>3</th>\n",
       "      <td>3</td>\n",
       "      <td>2006-04-01 01:00:00</td>\n",
       "      <td>Port of Turku, Finland</td>\n",
       "      <td>8.288889</td>\n",
       "      <td>0.83</td>\n",
       "      <td>14.1036</td>\n",
       "      <td>269</td>\n",
       "      <td>15.8263</td>\n",
       "      <td>1016.41</td>\n",
       "      <td>1</td>\n",
       "      <td>1.0</td>\n",
       "    </tr>\n",
       "    <tr>\n",
       "      <th>4</th>\n",
       "      <td>4</td>\n",
       "      <td>2006-04-01 02:00:00</td>\n",
       "      <td>Port of Turku, Finland</td>\n",
       "      <td>8.755556</td>\n",
       "      <td>0.83</td>\n",
       "      <td>11.0446</td>\n",
       "      <td>259</td>\n",
       "      <td>15.8263</td>\n",
       "      <td>1016.51</td>\n",
       "      <td>1</td>\n",
       "      <td>1.0</td>\n",
       "    </tr>\n",
       "  </tbody>\n",
       "</table>\n",
       "</div>"
      ],
      "text/plain": [
       "   Column1           Timestamp                Location  Temperature_C  \\\n",
       "0        0 2006-03-31 22:00:00  Port of Turku, Finland       9.472222   \n",
       "1        1 2006-03-31 23:00:00  Port of Turku, Finland       9.355556   \n",
       "2        2 2006-04-01 00:00:00  Port of Turku, Finland       9.377778   \n",
       "3        3 2006-04-01 01:00:00  Port of Turku, Finland       8.288889   \n",
       "4        4 2006-04-01 02:00:00  Port of Turku, Finland       8.755556   \n",
       "\n",
       "   Humidity  Wind_speed_kmph  Wind_bearing_degrees  Visibility_km  \\\n",
       "0      0.89          14.1197                   251        15.8263   \n",
       "1      0.86          14.2646                   259        15.8263   \n",
       "2      0.89           3.9284                   204        14.9569   \n",
       "3      0.83          14.1036                   269        15.8263   \n",
       "4      0.83          11.0446                   259        15.8263   \n",
       "\n",
       "   Pressure_millibars  Weather_condition  Future_Weather_Condition  \n",
       "0             1015.13                  1                       1.0  \n",
       "1             1015.63                  1                       1.0  \n",
       "2             1015.94                  1                       1.0  \n",
       "3             1016.41                  1                       1.0  \n",
       "4             1016.51                  1                       1.0  "
      ]
     },
     "execution_count": 5,
     "metadata": {},
     "output_type": "execute_result"
    }
   ],
   "source": [
    "df = dataset.to_pandas_dataframe()\n",
    "df.head()"
   ]
  },
  {
   "cell_type": "code",
   "execution_count": 8,
   "id": "309acbf7-893d-4904-baa9-7a34fa9486bb",
   "metadata": {},
   "outputs": [
    {
     "data": {
      "text/plain": [
       "(96449, 11)"
      ]
     },
     "execution_count": 8,
     "metadata": {},
     "output_type": "execute_result"
    }
   ],
   "source": [
    "df.shape"
   ]
  },
  {
   "cell_type": "code",
   "execution_count": 9,
   "id": "c6ee211f-84ae-4716-9713-e7a05dacc732",
   "metadata": {},
   "outputs": [],
   "source": [
    "df.drop('Column1',axis=1, inplace=True)"
   ]
  },
  {
   "cell_type": "code",
   "execution_count": 10,
   "id": "775dd6be-034b-4ee6-af5b-c404b3791712",
   "metadata": {},
   "outputs": [
    {
     "data": {
      "text/plain": [
       "(96449, 10)"
      ]
     },
     "execution_count": 10,
     "metadata": {},
     "output_type": "execute_result"
    }
   ],
   "source": [
    "df.shape"
   ]
  },
  {
   "cell_type": "code",
   "execution_count": 11,
   "id": "c5849811-de9e-4253-9154-7ef190db19f5",
   "metadata": {},
   "outputs": [
    {
     "data": {
      "text/plain": [
       "(77160, 10)"
      ]
     },
     "execution_count": 11,
     "metadata": {},
     "output_type": "execute_result"
    }
   ],
   "source": [
    "# training and validation set\n",
    "\n",
    "df_training = df.iloc[:77160]   # 80% values\n",
    "\n",
    "df_training.shape"
   ]
  },
  {
   "cell_type": "code",
   "execution_count": 12,
   "id": "978ee66c-d538-45d0-8024-e821a6c09631",
   "metadata": {},
   "outputs": [
    {
     "data": {
      "text/plain": [
       "(19289, 10)"
      ]
     },
     "execution_count": 12,
     "metadata": {},
     "output_type": "execute_result"
    }
   ],
   "source": [
    "df_validation = df.drop(df_training.index)\n",
    "df_validation.shape"
   ]
  },
  {
   "cell_type": "code",
   "execution_count": 14,
   "id": "fac7e94f-c048-401a-9d3a-7a4d1fe6e3de",
   "metadata": {},
   "outputs": [],
   "source": [
    "!mkdir Data"
   ]
  },
  {
   "cell_type": "code",
   "execution_count": 15,
   "id": "d2af8eaa-c398-4dc5-9028-3a1a5eb5325d",
   "metadata": {},
   "outputs": [],
   "source": [
    "# storing the training and validation set\n",
    "\n",
    "df_training.to_csv('Data/training_data.csv', index=False)\n",
    "\n",
    "df_validation.to_csv('Data/validation_data.csv', index=False)"
   ]
  },
  {
   "cell_type": "code",
   "execution_count": null,
   "id": "1783132f-e8b3-434c-bfae-04df5a087d40",
   "metadata": {},
   "outputs": [],
   "source": [
    "## registering the training and validation dataset -->> \n",
    "\n"
   ]
  }
 ],
 "metadata": {
  "kernelspec": {
   "display_name": "Python 3.8 - AzureML",
   "language": "python",
   "name": "python38-azureml"
  },
  "language_info": {
   "codemirror_mode": {
    "name": "ipython",
    "version": 3
   },
   "file_extension": ".py",
   "mimetype": "text/x-python",
   "name": "python",
   "nbconvert_exporter": "python",
   "pygments_lexer": "ipython3",
   "version": "3.8.5"
  }
 },
 "nbformat": 4,
 "nbformat_minor": 5
}
