{
 "cells": [
  {
   "cell_type": "markdown",
   "id": "653e707b",
   "metadata": {},
   "source": [
    "# ML Operations"
   ]
  },
  {
   "cell_type": "code",
   "execution_count": null,
   "id": "2d4860d3",
   "metadata": {},
   "outputs": [],
   "source": [
    "AI powered application\n",
    "\n",
    "- microservices (serving business logic)\n",
    "- big data (log, preprocessing, feature engineering)\n",
    "- training"
   ]
  },
  {
   "cell_type": "code",
   "execution_count": null,
   "id": "5cf9c6cf",
   "metadata": {},
   "outputs": [],
   "source": [
    "Software development methods\n",
    "\n",
    "- waterfall\n",
    "- agile\n",
    "- DevOps - development operations (build, test, deploy, delivery)"
   ]
  },
  {
   "cell_type": "code",
   "execution_count": null,
   "id": "b7a44692",
   "metadata": {},
   "outputs": [],
   "source": [
    "MLOps\n",
    "\n",
    "- Machine Learning\n",
    "- DevOps\n",
    "- Data Engineering"
   ]
  },
  {
   "cell_type": "markdown",
   "id": "7994dd40",
   "metadata": {},
   "source": [
    "# MLOps Workflow"
   ]
  },
  {
   "cell_type": "code",
   "execution_count": null,
   "id": "6516d332",
   "metadata": {},
   "outputs": [],
   "source": [
    "- MLOps Pipeline -> Build, Deploy, and monitor\n",
    "\n",
    "- Drivers -> Data, Code, Artifacts, Middleware, Infrastructure"
   ]
  },
  {
   "cell_type": "markdown",
   "id": "ef6be880",
   "metadata": {},
   "source": [
    "<img src='mlflow.jpg' />"
   ]
  },
  {
   "cell_type": "code",
   "execution_count": null,
   "id": "b78ea889",
   "metadata": {},
   "outputs": [],
   "source": [
    "py                                         ------>         pyc\n",
    "model weights(knowledge graph/matrix)                    pkl / h5   --->    production model"
   ]
  },
  {
   "cell_type": "code",
   "execution_count": null,
   "id": "3396caf0",
   "metadata": {},
   "outputs": [],
   "source": [
    "# model = LinearRegression()\n",
    "\n",
    "# # model.pkl()"
   ]
  },
  {
   "cell_type": "markdown",
   "id": "40d45d80",
   "metadata": {},
   "source": [
    "# MLOps categorization"
   ]
  },
  {
   "cell_type": "code",
   "execution_count": null,
   "id": "82ac36e8",
   "metadata": {},
   "outputs": [],
   "source": [
    "- small data -> dataset < 10 GB\n",
    "- big data -> data > 1 TB -> Kafka, Spark, Hadoop\n",
    "- large scale MLops -> \n",
    "- hybrid mlops -> processing capacity, data team, money"
   ]
  },
  {
   "cell_type": "markdown",
   "id": "e135cb78",
   "metadata": {},
   "source": [
    "# Roadmap\n",
    "\n",
    "\n",
    "## Phase 1\n",
    "Infrastructure Setup\n",
    "\n",
    "ML Development\n",
    "\n",
    "\n",
    "\n",
    "## Phase 2\n",
    "Transition into Operations\n",
    "\n",
    "\n",
    "\n",
    "## Phase 3\n",
    "MLOps, Data Operations\n",
    "\n",
    "Monitoring"
   ]
  },
  {
   "cell_type": "markdown",
   "id": "e318108c",
   "metadata": {},
   "source": [
    "# Real World Business Problem\n"
   ]
  },
  {
   "cell_type": "code",
   "execution_count": null,
   "id": "5b0f621e",
   "metadata": {},
   "outputs": [],
   "source": [
    "predict weather every 4 hours\n",
    "\n",
    "reduce the operational costs by 20%"
   ]
  },
  {
   "cell_type": "code",
   "execution_count": null,
   "id": "ee9e0dd4",
   "metadata": {},
   "outputs": [],
   "source": [
    "- Azure Machine Learning(cloud based ML service)\n",
    "- MLFlow(cloud and platform agnostic tool)\n",
    "- Azure DevOps(CI/CD and source code management)\n",
    "\n",
    "- JupyterHub"
   ]
  },
  {
   "cell_type": "code",
   "execution_count": null,
   "id": "49f79462",
   "metadata": {},
   "outputs": [],
   "source": [
    "terminal\n",
    "\n",
    "pip install mlflow\n",
    "\n",
    "mlflow ui (localhost:5000)\n",
    "\n"
   ]
  },
  {
   "cell_type": "code",
   "execution_count": null,
   "id": "bad93a7b",
   "metadata": {},
   "outputs": [],
   "source": [
    "create Azure ML resource and workspace\n",
    "\n",
    "install Azure ML SDK\n",
    "\n",
    "pip install --upgrade azureml-sdk\n",
    "\n"
   ]
  },
  {
   "cell_type": "code",
   "execution_count": null,
   "id": "90a48e99",
   "metadata": {},
   "outputs": [],
   "source": [
    "pip install jupyterhub\n",
    "\n"
   ]
  },
  {
   "cell_type": "code",
   "execution_count": null,
   "id": "546fe4a4",
   "metadata": {},
   "outputs": [],
   "source": []
  }
 ],
 "metadata": {
  "kernelspec": {
   "display_name": "Python 3 (ipykernel)",
   "language": "python",
   "name": "python3"
  },
  "language_info": {
   "codemirror_mode": {
    "name": "ipython",
    "version": 3
   },
   "file_extension": ".py",
   "mimetype": "text/x-python",
   "name": "python",
   "nbconvert_exporter": "python",
   "pygments_lexer": "ipython3",
   "version": "3.9.12"
  }
 },
 "nbformat": 4,
 "nbformat_minor": 5
}
