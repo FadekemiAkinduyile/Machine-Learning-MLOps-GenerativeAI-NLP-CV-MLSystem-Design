{
 "cells": [
  {
   "cell_type": "markdown",
   "id": "05245ce7-8dbf-43ed-af6b-5c3f5a6004a0",
   "metadata": {},
   "source": [
    "# Data Preprocessing"
   ]
  },
  {
   "cell_type": "code",
   "execution_count": 2,
   "id": "06da8351-6857-48e8-9013-f163bde14def",
   "metadata": {},
   "outputs": [],
   "source": [
    "import pandas as pd\n",
    "import numpy as np\n",
    "from matplotlib import pyplot as plt\n",
    "from matplotlib.pyplot import figure\n",
    "import seaborn as sns\n",
    "from azureml.core import Workspace, Dataset"
   ]
  },
  {
   "cell_type": "code",
   "execution_count": 3,
   "id": "86959e0f-08aa-4ad3-8f47-7eaa01f7aa78",
   "metadata": {},
   "outputs": [
    {
     "data": {
      "text/html": [
       "<div>\n",
       "<style scoped>\n",
       "    .dataframe tbody tr th:only-of-type {\n",
       "        vertical-align: middle;\n",
       "    }\n",
       "\n",
       "    .dataframe tbody tr th {\n",
       "        vertical-align: top;\n",
       "    }\n",
       "\n",
       "    .dataframe thead th {\n",
       "        text-align: right;\n",
       "    }\n",
       "</style>\n",
       "<table border=\"1\" class=\"dataframe\">\n",
       "  <thead>\n",
       "    <tr style=\"text-align: right;\">\n",
       "      <th></th>\n",
       "      <th>S_No</th>\n",
       "      <th>Timestamp</th>\n",
       "      <th>Location</th>\n",
       "      <th>Temperature_C</th>\n",
       "      <th>Apparent_Temperature_C</th>\n",
       "      <th>Humidity</th>\n",
       "      <th>Wind_speed_kmph</th>\n",
       "      <th>Wind_bearing_degrees</th>\n",
       "      <th>Visibility_km</th>\n",
       "      <th>Pressure_millibars</th>\n",
       "      <th>Weather_conditions</th>\n",
       "    </tr>\n",
       "  </thead>\n",
       "  <tbody>\n",
       "    <tr>\n",
       "      <th>0</th>\n",
       "      <td>0</td>\n",
       "      <td>2006-04-01 00:00:00+02:00</td>\n",
       "      <td>Port of Turku, Finland</td>\n",
       "      <td>9.472222</td>\n",
       "      <td>7.388889</td>\n",
       "      <td>0.89</td>\n",
       "      <td>14.1197</td>\n",
       "      <td>251</td>\n",
       "      <td>15.8263</td>\n",
       "      <td>1015.13</td>\n",
       "      <td>rain</td>\n",
       "    </tr>\n",
       "    <tr>\n",
       "      <th>1</th>\n",
       "      <td>1</td>\n",
       "      <td>2006-04-01 01:00:00+02:00</td>\n",
       "      <td>Port of Turku, Finland</td>\n",
       "      <td>9.355556</td>\n",
       "      <td>7.227778</td>\n",
       "      <td>0.86</td>\n",
       "      <td>14.2646</td>\n",
       "      <td>259</td>\n",
       "      <td>15.8263</td>\n",
       "      <td>1015.63</td>\n",
       "      <td>rain</td>\n",
       "    </tr>\n",
       "    <tr>\n",
       "      <th>2</th>\n",
       "      <td>2</td>\n",
       "      <td>2006-04-01 02:00:00+02:00</td>\n",
       "      <td>Port of Turku, Finland</td>\n",
       "      <td>9.377778</td>\n",
       "      <td>9.377778</td>\n",
       "      <td>0.89</td>\n",
       "      <td>3.9284</td>\n",
       "      <td>204</td>\n",
       "      <td>14.9569</td>\n",
       "      <td>1015.94</td>\n",
       "      <td>rain</td>\n",
       "    </tr>\n",
       "    <tr>\n",
       "      <th>3</th>\n",
       "      <td>3</td>\n",
       "      <td>2006-04-01 03:00:00+02:00</td>\n",
       "      <td>Port of Turku, Finland</td>\n",
       "      <td>8.288889</td>\n",
       "      <td>5.944444</td>\n",
       "      <td>0.83</td>\n",
       "      <td>14.1036</td>\n",
       "      <td>269</td>\n",
       "      <td>15.8263</td>\n",
       "      <td>1016.41</td>\n",
       "      <td>NaN</td>\n",
       "    </tr>\n",
       "    <tr>\n",
       "      <th>4</th>\n",
       "      <td>4</td>\n",
       "      <td>2006-04-01 04:00:00+02:00</td>\n",
       "      <td>Port of Turku, Finland</td>\n",
       "      <td>8.755556</td>\n",
       "      <td>6.977778</td>\n",
       "      <td>0.83</td>\n",
       "      <td>11.0446</td>\n",
       "      <td>259</td>\n",
       "      <td>15.8263</td>\n",
       "      <td>1016.51</td>\n",
       "      <td>rain</td>\n",
       "    </tr>\n",
       "  </tbody>\n",
       "</table>\n",
       "</div>"
      ],
      "text/plain": [
       "   S_No                  Timestamp                Location  Temperature_C  \\\n",
       "0     0  2006-04-01 00:00:00+02:00  Port of Turku, Finland       9.472222   \n",
       "1     1  2006-04-01 01:00:00+02:00  Port of Turku, Finland       9.355556   \n",
       "2     2  2006-04-01 02:00:00+02:00  Port of Turku, Finland       9.377778   \n",
       "3     3  2006-04-01 03:00:00+02:00  Port of Turku, Finland       8.288889   \n",
       "4     4  2006-04-01 04:00:00+02:00  Port of Turku, Finland       8.755556   \n",
       "\n",
       "   Apparent_Temperature_C  Humidity  Wind_speed_kmph  Wind_bearing_degrees  \\\n",
       "0                7.388889      0.89          14.1197                   251   \n",
       "1                7.227778      0.86          14.2646                   259   \n",
       "2                9.377778      0.89           3.9284                   204   \n",
       "3                5.944444      0.83          14.1036                   269   \n",
       "4                6.977778      0.83          11.0446                   259   \n",
       "\n",
       "   Visibility_km  Pressure_millibars Weather_conditions  \n",
       "0        15.8263             1015.13               rain  \n",
       "1        15.8263             1015.63               rain  \n",
       "2        14.9569             1015.94               rain  \n",
       "3        15.8263             1016.41                NaN  \n",
       "4        15.8263             1016.51               rain  "
      ]
     },
     "execution_count": 3,
     "metadata": {},
     "output_type": "execute_result"
    }
   ],
   "source": [
    "df = pd.read_csv(\"dataset/weather_dataset_raw.csv\")\n",
    "df.head()"
   ]
  },
  {
   "cell_type": "code",
   "execution_count": 4,
   "id": "cd87f854-e51c-4415-8ed8-b406e6f3e90d",
   "metadata": {},
   "outputs": [
    {
     "data": {
      "text/html": [
       "<div>\n",
       "<style scoped>\n",
       "    .dataframe tbody tr th:only-of-type {\n",
       "        vertical-align: middle;\n",
       "    }\n",
       "\n",
       "    .dataframe tbody tr th {\n",
       "        vertical-align: top;\n",
       "    }\n",
       "\n",
       "    .dataframe thead th {\n",
       "        text-align: right;\n",
       "    }\n",
       "</style>\n",
       "<table border=\"1\" class=\"dataframe\">\n",
       "  <thead>\n",
       "    <tr style=\"text-align: right;\">\n",
       "      <th></th>\n",
       "      <th>S_No</th>\n",
       "      <th>Temperature_C</th>\n",
       "      <th>Apparent_Temperature_C</th>\n",
       "      <th>Humidity</th>\n",
       "      <th>Wind_speed_kmph</th>\n",
       "      <th>Wind_bearing_degrees</th>\n",
       "      <th>Visibility_km</th>\n",
       "      <th>Pressure_millibars</th>\n",
       "    </tr>\n",
       "  </thead>\n",
       "  <tbody>\n",
       "    <tr>\n",
       "      <th>count</th>\n",
       "      <td>96453.000000</td>\n",
       "      <td>96453.000000</td>\n",
       "      <td>96453.000000</td>\n",
       "      <td>96453.000000</td>\n",
       "      <td>96453.000000</td>\n",
       "      <td>96453.000000</td>\n",
       "      <td>96453.000000</td>\n",
       "      <td>96453.000000</td>\n",
       "    </tr>\n",
       "    <tr>\n",
       "      <th>mean</th>\n",
       "      <td>48226.000000</td>\n",
       "      <td>11.932678</td>\n",
       "      <td>10.855029</td>\n",
       "      <td>0.734899</td>\n",
       "      <td>10.810640</td>\n",
       "      <td>187.509232</td>\n",
       "      <td>10.347325</td>\n",
       "      <td>1003.235956</td>\n",
       "    </tr>\n",
       "    <tr>\n",
       "      <th>std</th>\n",
       "      <td>27843.727094</td>\n",
       "      <td>9.551546</td>\n",
       "      <td>10.696847</td>\n",
       "      <td>0.195473</td>\n",
       "      <td>6.913571</td>\n",
       "      <td>107.383428</td>\n",
       "      <td>4.192123</td>\n",
       "      <td>116.969906</td>\n",
       "    </tr>\n",
       "    <tr>\n",
       "      <th>min</th>\n",
       "      <td>0.000000</td>\n",
       "      <td>-21.822222</td>\n",
       "      <td>-27.716667</td>\n",
       "      <td>0.000000</td>\n",
       "      <td>0.000000</td>\n",
       "      <td>0.000000</td>\n",
       "      <td>0.000000</td>\n",
       "      <td>0.000000</td>\n",
       "    </tr>\n",
       "    <tr>\n",
       "      <th>25%</th>\n",
       "      <td>24113.000000</td>\n",
       "      <td>4.688889</td>\n",
       "      <td>2.311111</td>\n",
       "      <td>0.600000</td>\n",
       "      <td>5.828200</td>\n",
       "      <td>116.000000</td>\n",
       "      <td>8.339800</td>\n",
       "      <td>1011.900000</td>\n",
       "    </tr>\n",
       "    <tr>\n",
       "      <th>50%</th>\n",
       "      <td>48226.000000</td>\n",
       "      <td>12.000000</td>\n",
       "      <td>12.000000</td>\n",
       "      <td>0.780000</td>\n",
       "      <td>9.965900</td>\n",
       "      <td>180.000000</td>\n",
       "      <td>10.046400</td>\n",
       "      <td>1016.450000</td>\n",
       "    </tr>\n",
       "    <tr>\n",
       "      <th>75%</th>\n",
       "      <td>72339.000000</td>\n",
       "      <td>18.838889</td>\n",
       "      <td>18.838889</td>\n",
       "      <td>0.890000</td>\n",
       "      <td>14.135800</td>\n",
       "      <td>290.000000</td>\n",
       "      <td>14.812000</td>\n",
       "      <td>1021.090000</td>\n",
       "    </tr>\n",
       "    <tr>\n",
       "      <th>max</th>\n",
       "      <td>96452.000000</td>\n",
       "      <td>39.905556</td>\n",
       "      <td>39.344444</td>\n",
       "      <td>1.000000</td>\n",
       "      <td>63.852600</td>\n",
       "      <td>359.000000</td>\n",
       "      <td>16.100000</td>\n",
       "      <td>1046.380000</td>\n",
       "    </tr>\n",
       "  </tbody>\n",
       "</table>\n",
       "</div>"
      ],
      "text/plain": [
       "               S_No  Temperature_C  Apparent_Temperature_C      Humidity  \\\n",
       "count  96453.000000   96453.000000            96453.000000  96453.000000   \n",
       "mean   48226.000000      11.932678               10.855029      0.734899   \n",
       "std    27843.727094       9.551546               10.696847      0.195473   \n",
       "min        0.000000     -21.822222              -27.716667      0.000000   \n",
       "25%    24113.000000       4.688889                2.311111      0.600000   \n",
       "50%    48226.000000      12.000000               12.000000      0.780000   \n",
       "75%    72339.000000      18.838889               18.838889      0.890000   \n",
       "max    96452.000000      39.905556               39.344444      1.000000   \n",
       "\n",
       "       Wind_speed_kmph  Wind_bearing_degrees  Visibility_km  \\\n",
       "count     96453.000000          96453.000000   96453.000000   \n",
       "mean         10.810640            187.509232      10.347325   \n",
       "std           6.913571            107.383428       4.192123   \n",
       "min           0.000000              0.000000       0.000000   \n",
       "25%           5.828200            116.000000       8.339800   \n",
       "50%           9.965900            180.000000      10.046400   \n",
       "75%          14.135800            290.000000      14.812000   \n",
       "max          63.852600            359.000000      16.100000   \n",
       "\n",
       "       Pressure_millibars  \n",
       "count        96453.000000  \n",
       "mean          1003.235956  \n",
       "std            116.969906  \n",
       "min              0.000000  \n",
       "25%           1011.900000  \n",
       "50%           1016.450000  \n",
       "75%           1021.090000  \n",
       "max           1046.380000  "
      ]
     },
     "execution_count": 4,
     "metadata": {},
     "output_type": "execute_result"
    }
   ],
   "source": [
    "df.describe()"
   ]
  },
  {
   "cell_type": "code",
   "execution_count": 5,
   "id": "7152be77-1601-4636-b9c8-2c424a5629c4",
   "metadata": {},
   "outputs": [
    {
     "data": {
      "text/plain": [
       "S_No                        int64\n",
       "Timestamp                  object\n",
       "Location                   object\n",
       "Temperature_C             float64\n",
       "Apparent_Temperature_C    float64\n",
       "Humidity                  float64\n",
       "Wind_speed_kmph           float64\n",
       "Wind_bearing_degrees        int64\n",
       "Visibility_km             float64\n",
       "Pressure_millibars        float64\n",
       "Weather_conditions         object\n",
       "dtype: object"
      ]
     },
     "execution_count": 5,
     "metadata": {},
     "output_type": "execute_result"
    }
   ],
   "source": [
    "df.dtypes"
   ]
  },
  {
   "cell_type": "code",
   "execution_count": 6,
   "id": "92845871-6567-4a12-95d0-c3e8fd7217da",
   "metadata": {},
   "outputs": [],
   "source": [
    "df['Timestamp'] = pd.to_datetime(df['Timestamp'])"
   ]
  },
  {
   "cell_type": "code",
   "execution_count": 7,
   "id": "00acdfec-099d-49a3-b425-a7333e2490fe",
   "metadata": {},
   "outputs": [
    {
     "data": {
      "text/plain": [
       "(96453, 11)"
      ]
     },
     "execution_count": 7,
     "metadata": {},
     "output_type": "execute_result"
    }
   ],
   "source": [
    "df.shape"
   ]
  },
  {
   "cell_type": "code",
   "execution_count": 8,
   "id": "46c2ce9f-a407-4d28-936a-1d26967bc0c7",
   "metadata": {},
   "outputs": [
    {
     "data": {
      "text/plain": [
       "True"
      ]
     },
     "execution_count": 8,
     "metadata": {},
     "output_type": "execute_result"
    }
   ],
   "source": [
    "df.isnull().values.any()"
   ]
  },
  {
   "cell_type": "code",
   "execution_count": 9,
   "id": "1dceaaa9-782d-4042-8ff3-ff7036fda2ab",
   "metadata": {},
   "outputs": [
    {
     "data": {
      "text/plain": [
       "S_No                      0\n",
       "Timestamp                 0\n",
       "Location                  0\n",
       "Temperature_C             0\n",
       "Apparent_Temperature_C    0\n",
       "Humidity                  0\n",
       "Wind_speed_kmph           0\n",
       "Wind_bearing_degrees      0\n",
       "Visibility_km             0\n",
       "Pressure_millibars        0\n",
       "Weather_conditions        5\n",
       "dtype: int64"
      ]
     },
     "execution_count": 9,
     "metadata": {},
     "output_type": "execute_result"
    }
   ],
   "source": [
    "df.isnull().sum()"
   ]
  },
  {
   "cell_type": "code",
   "execution_count": 10,
   "id": "ede64f18-e216-4df1-930b-16b76b621cde",
   "metadata": {},
   "outputs": [],
   "source": [
    "df['Weather_conditions'].fillna(method='ffill', inplace=True, axis=0)"
   ]
  },
  {
   "cell_type": "code",
   "execution_count": 11,
   "id": "0ab752b4-3ee1-4b75-acd6-b02fec69fb05",
   "metadata": {},
   "outputs": [
    {
     "data": {
      "text/plain": [
       "rain     82271\n",
       "snow     10712\n",
       "clear     3470\n",
       "Name: Weather_conditions, dtype: int64"
      ]
     },
     "execution_count": 11,
     "metadata": {},
     "output_type": "execute_result"
    }
   ],
   "source": [
    "df.Weather_conditions.value_counts()"
   ]
  },
  {
   "cell_type": "code",
   "execution_count": 12,
   "id": "fcb2b04f-7196-47b0-adad-2c6c17377dda",
   "metadata": {},
   "outputs": [],
   "source": [
    "df['Weather_conditions'].replace({\"snow\":\"no_rain\", \"clear\": \"no_rain\"}, inplace=True)"
   ]
  },
  {
   "cell_type": "code",
   "execution_count": 13,
   "id": "5774530c-62f2-4d01-8050-928fbfd458c4",
   "metadata": {},
   "outputs": [
    {
     "data": {
      "text/plain": [
       "rain       82271\n",
       "no_rain    14182\n",
       "Name: Weather_conditions, dtype: int64"
      ]
     },
     "execution_count": 13,
     "metadata": {},
     "output_type": "execute_result"
    }
   ],
   "source": [
    "df.Weather_conditions.value_counts()"
   ]
  },
  {
   "cell_type": "markdown",
   "id": "873da1e1-4297-4dbf-ad3d-3633c86e2a05",
   "metadata": {},
   "source": [
    "# Label Encoding"
   ]
  },
  {
   "cell_type": "code",
   "execution_count": null,
   "id": "7b0d4142-73d5-46ce-b0ce-d55671b03c63",
   "metadata": {},
   "outputs": [],
   "source": []
  }
 ],
 "metadata": {
  "kernelspec": {
   "display_name": "Python 3 (ipykernel)",
   "language": "python",
   "name": "python3"
  },
  "language_info": {
   "codemirror_mode": {
    "name": "ipython",
    "version": 3
   },
   "file_extension": ".py",
   "mimetype": "text/x-python",
   "name": "python",
   "nbconvert_exporter": "python",
   "pygments_lexer": "ipython3",
   "version": "3.9.12"
  }
 },
 "nbformat": 4,
 "nbformat_minor": 5
}
