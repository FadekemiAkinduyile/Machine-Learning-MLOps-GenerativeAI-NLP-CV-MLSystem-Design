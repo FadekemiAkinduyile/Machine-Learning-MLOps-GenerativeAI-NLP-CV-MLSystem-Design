{
 "cells": [
  {
   "cell_type": "code",
   "execution_count": 1,
   "id": "351c0efb",
   "metadata": {},
   "outputs": [
    {
     "name": "stdout",
     "output_type": "stream",
     "text": [
      "Collecting pyod\n",
      "  Downloading pyod-1.1.2.tar.gz (160 kB)\n",
      "Requirement already satisfied: joblib in c:\\users\\himan\\anaconda3\\lib\\site-packages (from pyod) (1.1.0)\n",
      "Requirement already satisfied: matplotlib in c:\\users\\himan\\anaconda3\\lib\\site-packages (from pyod) (3.5.1)\n",
      "Requirement already satisfied: numpy>=1.19 in c:\\users\\himan\\anaconda3\\lib\\site-packages (from pyod) (1.21.5)\n",
      "Requirement already satisfied: numba>=0.51 in c:\\users\\himan\\anaconda3\\lib\\site-packages (from pyod) (0.55.1)\n",
      "Requirement already satisfied: scipy>=1.5.1 in c:\\users\\himan\\anaconda3\\lib\\site-packages (from pyod) (1.7.3)\n",
      "Requirement already satisfied: scikit_learn>=0.22.0 in c:\\users\\himan\\anaconda3\\lib\\site-packages (from pyod) (1.0.2)\n",
      "Requirement already satisfied: six in c:\\users\\himan\\anaconda3\\lib\\site-packages (from pyod) (1.16.0)\n",
      "Requirement already satisfied: llvmlite<0.39,>=0.38.0rc1 in c:\\users\\himan\\anaconda3\\lib\\site-packages (from numba>=0.51->pyod) (0.38.0)\n",
      "Requirement already satisfied: setuptools in c:\\users\\himan\\anaconda3\\lib\\site-packages (from numba>=0.51->pyod) (61.2.0)\n",
      "Requirement already satisfied: threadpoolctl>=2.0.0 in c:\\users\\himan\\anaconda3\\lib\\site-packages (from scikit_learn>=0.22.0->pyod) (2.2.0)\n",
      "Requirement already satisfied: fonttools>=4.22.0 in c:\\users\\himan\\anaconda3\\lib\\site-packages (from matplotlib->pyod) (4.25.0)\n",
      "Requirement already satisfied: packaging>=20.0 in c:\\users\\himan\\anaconda3\\lib\\site-packages (from matplotlib->pyod) (21.3)\n",
      "Requirement already satisfied: pillow>=6.2.0 in c:\\users\\himan\\anaconda3\\lib\\site-packages (from matplotlib->pyod) (9.0.1)\n",
      "Requirement already satisfied: pyparsing>=2.2.1 in c:\\users\\himan\\anaconda3\\lib\\site-packages (from matplotlib->pyod) (3.0.4)\n",
      "Requirement already satisfied: kiwisolver>=1.0.1 in c:\\users\\himan\\anaconda3\\lib\\site-packages (from matplotlib->pyod) (1.3.2)\n",
      "Requirement already satisfied: cycler>=0.10 in c:\\users\\himan\\anaconda3\\lib\\site-packages (from matplotlib->pyod) (0.11.0)\n",
      "Requirement already satisfied: python-dateutil>=2.7 in c:\\users\\himan\\anaconda3\\lib\\site-packages (from matplotlib->pyod) (2.8.2)\n",
      "Building wheels for collected packages: pyod\n",
      "  Building wheel for pyod (setup.py): started\n",
      "  Building wheel for pyod (setup.py): finished with status 'done'\n",
      "  Created wheel for pyod: filename=pyod-1.1.2-py3-none-any.whl size=190314 sha256=8ec6c1ddfb8a376d9667c549c1af427773074a2ee1801ac222a319cba648c487\n",
      "  Stored in directory: c:\\users\\himan\\appdata\\local\\pip\\cache\\wheels\\74\\67\\d3\\f296e7520af871929a8c60540465a122bd8cfe9c6670827efb\n",
      "Successfully built pyod\n",
      "Installing collected packages: pyod\n",
      "Successfully installed pyod-1.1.2\n"
     ]
    }
   ],
   "source": [
    "!pip install pyod"
   ]
  },
  {
   "cell_type": "code",
   "execution_count": null,
   "id": "a89cb442",
   "metadata": {},
   "outputs": [],
   "source": []
  }
 ],
 "metadata": {
  "kernelspec": {
   "display_name": "Python 3 (ipykernel)",
   "language": "python",
   "name": "python3"
  },
  "language_info": {
   "codemirror_mode": {
    "name": "ipython",
    "version": 3
   },
   "file_extension": ".py",
   "mimetype": "text/x-python",
   "name": "python",
   "nbconvert_exporter": "python",
   "pygments_lexer": "ipython3",
   "version": "3.9.12"
  }
 },
 "nbformat": 4,
 "nbformat_minor": 5
}
