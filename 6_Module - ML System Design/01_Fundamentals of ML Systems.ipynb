{
 "cells": [
  {
   "cell_type": "markdown",
   "id": "2b2fcf91",
   "metadata": {},
   "source": [
    "## ML Systems that is production ready"
   ]
  },
  {
   "cell_type": "code",
   "execution_count": null,
   "id": "6b509536",
   "metadata": {},
   "outputs": [],
   "source": [
    "\n",
    "Data Collection              Data Verification              Configuration\n",
    "\n",
    "\n",
    "\n",
    "Feature Extraction           ML Algorithms                  Analysis Tools\n",
    "                                                                                    Service \n",
    "                                                                                    Infrastructure\n",
    "\n",
    "\n",
    "Monitoring                   Process Management Tools       Machine Resource\n",
    "                                                            Management\n",
    "\n",
    "\n",
    "                             Evaluation Pipeline"
   ]
  },
  {
   "cell_type": "markdown",
   "id": "8c6db7e9",
   "metadata": {},
   "source": [
    "## the design steps (framework)"
   ]
  },
  {
   "cell_type": "code",
   "execution_count": null,
   "id": "36e37c86",
   "metadata": {},
   "outputs": [],
   "source": [
    "1 - Requirements(Business Objective)\n",
    "2 - Frame your ML Task\n",
    "3 - Data Preparation\n",
    "4 - Model Development\n",
    "5 - Evaluation\n",
    "6 - Deployment\n",
    "7 - Monitoring"
   ]
  },
  {
   "cell_type": "markdown",
   "id": "07abd5d1",
   "metadata": {},
   "source": [
    "# 1 - Requirements"
   ]
  },
  {
   "cell_type": "code",
   "execution_count": null,
   "id": "71ef0369",
   "metadata": {},
   "outputs": [],
   "source": [
    "- business objective -> increase the revenue or increase the number of registrations\n",
    "- features the system needs to support -> intreaction data\n",
    "- data -> what are the sources, how large is the datasets, is the data labeled?\n",
    "- constraints -> computing power, are you using a cloud based system, Is the model expected to improve automatically over time?\n",
    "- scale of the system -> how many useres do we have? \n",
    "- performance -> How fast prediction can be? whats the priority accuracy or latency?"
   ]
  },
  {
   "cell_type": "markdown",
   "id": "a4e64313",
   "metadata": {},
   "source": [
    "# 2 - Frame your ML Task"
   ]
  },
  {
   "cell_type": "code",
   "execution_count": null,
   "id": "32786167",
   "metadata": {},
   "outputs": [],
   "source": [
    "- define your ML Objective\n",
    "- specifying the systems input and output\n",
    "- selecting the right ML category"
   ]
  },
  {
   "cell_type": "code",
   "execution_count": null,
   "id": "589a15a0",
   "metadata": {},
   "outputs": [],
   "source": [
    "- define your ML Objective\n",
    "\n",
    "\n",
    "business objective                                        ML objective\n",
    "- (Youtube)increase user engagement                       maximize the time a user spends on watching videos\n",
    "- (instagram)imporve the platform safety                  accurately predict if a content is harmful\n",
    "- (bookmyshow)increase ticket sales                       maximize the number of event registrations"
   ]
  },
  {
   "cell_type": "code",
   "execution_count": null,
   "id": "4ae0ef29",
   "metadata": {},
   "outputs": [],
   "source": [
    "- specifying the systems input and output\n",
    "\n",
    "input          algorithm               output\n",
    "post           harmful content         probability\n",
    "               detection system"
   ]
  },
  {
   "cell_type": "code",
   "execution_count": null,
   "id": "57d434f6",
   "metadata": {},
   "outputs": [],
   "source": [
    "input                      output\n",
    "user           model       probability\n",
    "events"
   ]
  },
  {
   "cell_type": "code",
   "execution_count": null,
   "id": "8fac6af0",
   "metadata": {},
   "outputs": [],
   "source": [
    "- selecting the right ML category\n",
    "\n",
    "                                    ML Categories\n",
    "Supervised                          Unsupervised                            Reinforcement\n",
    "Regression                          clustering\n",
    "Classification                      dimensionality reduction\n",
    "    - binary\n",
    "    - multiclass"
   ]
  },
  {
   "cell_type": "markdown",
   "id": "add10f87",
   "metadata": {},
   "source": [
    "# 3 - Data Preparation"
   ]
  },
  {
   "cell_type": "code",
   "execution_count": null,
   "id": "5ac19b46",
   "metadata": {},
   "outputs": [],
   "source": [
    "data sources -----> data engineering -> feature engineering -----> prepared features\n",
    "                           data preparation process"
   ]
  },
  {
   "cell_type": "code",
   "execution_count": null,
   "id": "31d32911",
   "metadata": {},
   "outputs": [],
   "source": [
    "data engineering -> designing and building pipelines for collection, storing, retrieving and processing data.\n",
    "\n",
    "data sources -> \n",
    "- who collected the data\n",
    "- how clean the data is\n",
    "- can the source be trusted\n",
    "- is the data user generated or system generated\n",
    "\n",
    "data storage -> \n",
    "- the high-level understanding of how diff databases work"
   ]
  },
  {
   "cell_type": "code",
   "execution_count": null,
   "id": "75ac7f4c",
   "metadata": {},
   "outputs": [],
   "source": [
    "SQL\n",
    "\n",
    "Relational Database\n",
    "\n",
    "- MySQL\n",
    "- PostgreSQL"
   ]
  },
  {
   "cell_type": "code",
   "execution_count": null,
   "id": "58710eab",
   "metadata": {},
   "outputs": [],
   "source": [
    "NoSQL\n",
    "\n",
    "Key/value      -> Redis, DynamoDB\n",
    "Column-based   -> Cassandra, HBase\n",
    "Graph          -> Neo4J\n",
    "Document       -> MongoDB, CouchDB"
   ]
  },
  {
   "cell_type": "code",
   "execution_count": null,
   "id": "df0d618d",
   "metadata": {},
   "outputs": [],
   "source": [
    "ETL -> Extract Transform and Load\n",
    "\n",
    "\n",
    "the ETL process -> \n",
    "\n",
    "\n",
    "Extract                           Transform                          Load\n",
    "Data Sources                                                     to target destination\n",
    "\n",
    "\n",
    "Databases                                                          Database\n",
    "\n",
    "Logs                                                               files\n",
    "\n",
    "Files                                                              data warehouse\n"
   ]
  }
 ],
 "metadata": {
  "kernelspec": {
   "display_name": "Python 3 (ipykernel)",
   "language": "python",
   "name": "python3"
  },
  "language_info": {
   "codemirror_mode": {
    "name": "ipython",
    "version": 3
   },
   "file_extension": ".py",
   "mimetype": "text/x-python",
   "name": "python",
   "nbconvert_exporter": "python",
   "pygments_lexer": "ipython3",
   "version": "3.9.12"
  }
 },
 "nbformat": 4,
 "nbformat_minor": 5
}
