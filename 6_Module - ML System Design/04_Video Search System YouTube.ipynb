{
 "cells": [
  {
   "cell_type": "markdown",
   "id": "c8fa768a",
   "metadata": {},
   "source": [
    "# Designing Video Search System"
   ]
  },
  {
   "cell_type": "code",
   "execution_count": null,
   "id": "29479aff",
   "metadata": {},
   "outputs": [],
   "source": []
  },
  {
   "cell_type": "code",
   "execution_count": null,
   "id": "e764908e",
   "metadata": {},
   "outputs": [],
   "source": []
  },
  {
   "cell_type": "markdown",
   "id": "bb084336",
   "metadata": {},
   "source": [
    "# 1 - Requirements"
   ]
  },
  {
   "cell_type": "code",
   "execution_count": null,
   "id": "1aa6dcac",
   "metadata": {},
   "outputs": [],
   "source": []
  },
  {
   "cell_type": "code",
   "execution_count": null,
   "id": "a1bd1dbc",
   "metadata": {},
   "outputs": [],
   "source": []
  },
  {
   "cell_type": "markdown",
   "id": "7a4f239f",
   "metadata": {},
   "source": [
    "# 2 - ML Problem\n",
    "\n",
    "<img src='v41.png' />"
   ]
  },
  {
   "cell_type": "code",
   "execution_count": null,
   "id": "0c6dd11a",
   "metadata": {},
   "outputs": [],
   "source": []
  },
  {
   "cell_type": "code",
   "execution_count": null,
   "id": "bc08d109",
   "metadata": {},
   "outputs": [],
   "source": []
  },
  {
   "cell_type": "code",
   "execution_count": null,
   "id": "b92e2c9a",
   "metadata": {},
   "outputs": [],
   "source": []
  },
  {
   "cell_type": "markdown",
   "id": "d04d6073",
   "metadata": {},
   "source": [
    "# 3 - Data Preperation"
   ]
  },
  {
   "cell_type": "code",
   "execution_count": null,
   "id": "fe2fd7cf",
   "metadata": {},
   "outputs": [],
   "source": [
    "# Data Engineering"
   ]
  },
  {
   "cell_type": "code",
   "execution_count": null,
   "id": "bae5b378",
   "metadata": {},
   "outputs": [],
   "source": [
    "# Feature Engineering"
   ]
  },
  {
   "cell_type": "markdown",
   "id": "8d707b62",
   "metadata": {},
   "source": [
    "### Text Normalization\n",
    "\n",
    "<img src='v42.png' />"
   ]
  },
  {
   "cell_type": "markdown",
   "id": "4448094f",
   "metadata": {},
   "source": [
    "### Tokenization\n",
    "\n",
    "<img src='v43.jpg' />"
   ]
  },
  {
   "cell_type": "code",
   "execution_count": null,
   "id": "1020ecef",
   "metadata": {},
   "outputs": [],
   "source": []
  },
  {
   "cell_type": "code",
   "execution_count": null,
   "id": "0012c711",
   "metadata": {},
   "outputs": [],
   "source": []
  },
  {
   "cell_type": "code",
   "execution_count": null,
   "id": "a4e00cba",
   "metadata": {},
   "outputs": [],
   "source": []
  },
  {
   "cell_type": "markdown",
   "id": "ad34e02d",
   "metadata": {},
   "source": [
    "# 4 - Model Development "
   ]
  },
  {
   "cell_type": "code",
   "execution_count": null,
   "id": "ca5c1b94",
   "metadata": {},
   "outputs": [],
   "source": []
  },
  {
   "cell_type": "markdown",
   "id": "3df1d1cd",
   "metadata": {},
   "source": [
    "### text encoder"
   ]
  },
  {
   "cell_type": "code",
   "execution_count": null,
   "id": "df945fd2",
   "metadata": {},
   "outputs": [],
   "source": []
  },
  {
   "cell_type": "code",
   "execution_count": null,
   "id": "a373577d",
   "metadata": {},
   "outputs": [],
   "source": []
  },
  {
   "cell_type": "markdown",
   "id": "512dbc4b",
   "metadata": {},
   "source": [
    "### Words in 2d embedding space\n",
    "\n",
    "<img src='v44.png' />"
   ]
  },
  {
   "cell_type": "markdown",
   "id": "d27d7c5a",
   "metadata": {},
   "source": [
    "### Word2Vec\n",
    "\n",
    "<img src='v45.png' />"
   ]
  },
  {
   "cell_type": "markdown",
   "id": "77759f4d",
   "metadata": {},
   "source": [
    "### Transformer Based Models Embeddings\n",
    "\n",
    "<img src='v46.png' />"
   ]
  },
  {
   "cell_type": "code",
   "execution_count": null,
   "id": "a48de5ec",
   "metadata": {},
   "outputs": [],
   "source": []
  },
  {
   "cell_type": "code",
   "execution_count": null,
   "id": "af20d8bb",
   "metadata": {},
   "outputs": [],
   "source": []
  },
  {
   "cell_type": "markdown",
   "id": "925ebd8f",
   "metadata": {},
   "source": [
    "# 5 - Evaluation"
   ]
  },
  {
   "cell_type": "code",
   "execution_count": null,
   "id": "2561731c",
   "metadata": {},
   "outputs": [],
   "source": []
  },
  {
   "cell_type": "code",
   "execution_count": null,
   "id": "872287c3",
   "metadata": {},
   "outputs": [],
   "source": []
  },
  {
   "cell_type": "code",
   "execution_count": null,
   "id": "6d129038",
   "metadata": {},
   "outputs": [],
   "source": []
  },
  {
   "cell_type": "markdown",
   "id": "f6d005c6",
   "metadata": {},
   "source": [
    "# 6 - Serving Pipeline"
   ]
  },
  {
   "cell_type": "code",
   "execution_count": null,
   "id": "571657e5",
   "metadata": {},
   "outputs": [],
   "source": []
  },
  {
   "cell_type": "code",
   "execution_count": null,
   "id": "88b306fb",
   "metadata": {},
   "outputs": [],
   "source": []
  }
 ],
 "metadata": {
  "kernelspec": {
   "display_name": "Python 3 (ipykernel)",
   "language": "python",
   "name": "python3"
  },
  "language_info": {
   "codemirror_mode": {
    "name": "ipython",
    "version": 3
   },
   "file_extension": ".py",
   "mimetype": "text/x-python",
   "name": "python",
   "nbconvert_exporter": "python",
   "pygments_lexer": "ipython3",
   "version": "3.9.12"
  }
 },
 "nbformat": 4,
 "nbformat_minor": 5
}
