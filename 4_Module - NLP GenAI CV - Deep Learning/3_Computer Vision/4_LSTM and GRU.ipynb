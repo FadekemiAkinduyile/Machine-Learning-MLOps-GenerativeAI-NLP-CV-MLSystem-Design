{
 "cells": [
  {
   "cell_type": "markdown",
   "id": "cc7ec547",
   "metadata": {},
   "source": [
    "# LSTM - Long Short Term Memory and \n",
    "# GRU - Gated Recurrent Unit\n",
    "\n",
    "\n",
    "<img src='l1.png' />\n"
   ]
  },
  {
   "cell_type": "code",
   "execution_count": null,
   "id": "be98e738",
   "metadata": {},
   "outputs": [],
   "source": [
    "- nlp tasks\n",
    "- speech recognition\n",
    "- time-series prediction\n",
    "- speech synthesis\n",
    "- text generation\n",
    "- captions for a video"
   ]
  },
  {
   "cell_type": "markdown",
   "id": "83cc0155",
   "metadata": {},
   "source": [
    "# RNN and Its drawbacks"
   ]
  },
  {
   "cell_type": "code",
   "execution_count": null,
   "id": "584c00d0",
   "metadata": {},
   "outputs": [],
   "source": [
    "- forward pass - sort-term memory\n",
    "- backward pass - vanishing gradient problem\n",
    "\n"
   ]
  },
  {
   "cell_type": "markdown",
   "id": "2afb2e0b",
   "metadata": {},
   "source": [
    "# LSTM - Long Short Term Memory\n",
    "\n",
    "<img src='l2.png' />"
   ]
  },
  {
   "cell_type": "code",
   "execution_count": null,
   "id": "1dba67e9",
   "metadata": {},
   "outputs": [],
   "source": [
    "mechanism -> gates\n",
    "\n",
    "\n",
    "- it stores relevant information to make predictions\n",
    "\n",
    "RNN\n",
    "- words -> vectors -> RNN process it one-by-one -> tanh[-1, 1] -> hidden layer \n",
    "\n",
    "[5,0.1,-0.5] -> tanh -> [0.99, 0.009, -0.46]\n",
    "\n",
    "- small sentences, \n",
    "- less computational as compared to LSTM and GRU"
   ]
  },
  {
   "cell_type": "code",
   "execution_count": null,
   "id": "34512335",
   "metadata": {},
   "outputs": [],
   "source": [
    "In LSTM the information should propagate forward\n",
    "\n",
    "- Cell State -> memory of the network\n",
    "- Gates -> neural networks -> allow which information should be there on the cell state\n",
    "        -> gates can learn what information is relevant to keep or forget during training.\n",
    "\n",
    "Sigmoid -> [0,1]\n",
    "\n",
    "- Forget Gate\n",
    "- Input Gate\n",
    "- Cell State\n",
    "- Output Gate"
   ]
  },
  {
   "cell_type": "markdown",
   "id": "9d23a804",
   "metadata": {},
   "source": [
    "# Gates\n",
    "\n",
    "## Forget Gate\n",
    "\n",
    "\n",
    "<img src='l3.gif' />"
   ]
  },
  {
   "cell_type": "code",
   "execution_count": null,
   "id": "8cf06262",
   "metadata": {},
   "outputs": [],
   "source": [
    "Sigmoid [0,1]\n",
    "forget gate - it will decide what infromation should be thorwn away or kept\n",
    "\n",
    "if the value is  close to 0 -> forget\n",
    "                 close to 1 -> kept"
   ]
  },
  {
   "cell_type": "code",
   "execution_count": null,
   "id": "51e5a1cf",
   "metadata": {},
   "outputs": [],
   "source": []
  },
  {
   "cell_type": "markdown",
   "id": "9c1eedfc",
   "metadata": {},
   "source": [
    "## Input Gate\n",
    "\n",
    "<img src='l4.gif' />"
   ]
  },
  {
   "cell_type": "code",
   "execution_count": null,
   "id": "e6bc452c",
   "metadata": {},
   "outputs": [],
   "source": [
    "input gate -> to update the cell state\n",
    "\n"
   ]
  },
  {
   "cell_type": "code",
   "execution_count": null,
   "id": "552f2cbc",
   "metadata": {},
   "outputs": [],
   "source": []
  },
  {
   "cell_type": "markdown",
   "id": "044f855d",
   "metadata": {},
   "source": [
    "## Cell State\n",
    "\n",
    "<img src='l5.gif' />"
   ]
  },
  {
   "cell_type": "code",
   "execution_count": null,
   "id": "b462db25",
   "metadata": {},
   "outputs": [],
   "source": []
  },
  {
   "cell_type": "code",
   "execution_count": null,
   "id": "f4fa2350",
   "metadata": {},
   "outputs": [],
   "source": []
  },
  {
   "cell_type": "markdown",
   "id": "37cd12ca",
   "metadata": {},
   "source": [
    "## Output Gate\n",
    "\n",
    "<img src='l6.gif' />"
   ]
  },
  {
   "cell_type": "code",
   "execution_count": null,
   "id": "ef3b26b3",
   "metadata": {},
   "outputs": [],
   "source": [
    "forget gate -> decide what is relevant to keep from prior steps\n",
    "input gate ->  what information is relevant to add from the current step\n",
    "output gate -> determines what next hidden state should be"
   ]
  },
  {
   "cell_type": "code",
   "execution_count": 1,
   "id": "49a8e698",
   "metadata": {},
   "outputs": [],
   "source": [
    "# algo for LSTM\n",
    "\n",
    "def LSTMCell(prev_ct, prev_ht, input):\n",
    "    combine = prev_ht + input\n",
    "    ft = forget_layer(combine)\n",
    "    candidate = candidate_layer(combine)\n",
    "    it = input_layer(combine)\n",
    "    ct = prev_ct * ft + candidate * it\n",
    "    ot = output_layer(combine)\n",
    "    ht = ot * tanh(ct)\n",
    "    return ht, ct"
   ]
  },
  {
   "cell_type": "code",
   "execution_count": null,
   "id": "08eecb61",
   "metadata": {},
   "outputs": [],
   "source": [
    "# ct = [0,0,0]\n",
    "# ht = [0,0,0]\n",
    "\n",
    "# for input in inputs:\n",
    "#     ct, ht = LSTMCell(ct,ht,input)"
   ]
  },
  {
   "attachments": {},
   "cell_type": "markdown",
   "id": "0ca37941",
   "metadata": {},
   "source": [
    "# GRU - Gated Recurrent Unit\n",
    "\n",
    "<img src='l7.png' />"
   ]
  },
  {
   "cell_type": "code",
   "execution_count": null,
   "id": "832a25da",
   "metadata": {},
   "outputs": [],
   "source": [
    "GRU -> it is newer generation of RNNs\n",
    "\n",
    "- no cell state\n",
    "- using hidden state to tranfer information"
   ]
  },
  {
   "cell_type": "markdown",
   "id": "4e50cdc9",
   "metadata": {},
   "source": [
    "## update gate \n"
   ]
  },
  {
   "cell_type": "code",
   "execution_count": null,
   "id": "9b4eea3e",
   "metadata": {},
   "outputs": [],
   "source": [
    "it is similar to the forget gate and input gate\n",
    "\n",
    "- decide what information to throw away and what new info to add"
   ]
  },
  {
   "cell_type": "markdown",
   "id": "df1c44e5",
   "metadata": {},
   "source": [
    "## reset gate "
   ]
  },
  {
   "cell_type": "code",
   "execution_count": null,
   "id": "f8a3d5f3",
   "metadata": {},
   "outputs": [],
   "source": [
    "- how much past information to forget"
   ]
  },
  {
   "cell_type": "code",
   "execution_count": null,
   "id": "21aeaee6",
   "metadata": {},
   "outputs": [],
   "source": [
    "faster thatn LSTM -> less tensor operations"
   ]
  },
  {
   "cell_type": "markdown",
   "id": "f40a723c",
   "metadata": {},
   "source": [
    "# PyTorch Code for LSTM on Movie Review Data"
   ]
  },
  {
   "cell_type": "code",
   "execution_count": null,
   "id": "8da0d3c1",
   "metadata": {},
   "outputs": [],
   "source": []
  }
 ],
 "metadata": {
  "kernelspec": {
   "display_name": "Python 3 (ipykernel)",
   "language": "python",
   "name": "python3"
  },
  "language_info": {
   "codemirror_mode": {
    "name": "ipython",
    "version": 3
   },
   "file_extension": ".py",
   "mimetype": "text/x-python",
   "name": "python",
   "nbconvert_exporter": "python",
   "pygments_lexer": "ipython3",
   "version": "3.9.12"
  }
 },
 "nbformat": 4,
 "nbformat_minor": 5
}
