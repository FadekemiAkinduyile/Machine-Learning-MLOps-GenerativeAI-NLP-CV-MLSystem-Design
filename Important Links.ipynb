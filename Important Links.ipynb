{
 "cells": [
  {
   "cell_type": "markdown",
   "id": "95d9517e",
   "metadata": {},
   "source": [
    "# Day 1\n",
    "\n",
    "AI Newsletter\n",
    "https://www.neatprompts.com/\n",
    "\n",
    "https://the-epoch-by-himanshu-ramchandani.beehiiv.com/\n",
    "\n",
    "https://www.joinsuperhuman.ai/\n",
    "\n",
    "\n",
    "AI Jobs\n",
    "https://ai-jobs.net/"
   ]
  },
  {
   "cell_type": "code",
   "execution_count": null,
   "id": "3bb47e27",
   "metadata": {},
   "outputs": [],
   "source": []
  },
  {
   "cell_type": "markdown",
   "id": "c11ed039",
   "metadata": {},
   "source": [
    "# Day 2\n",
    "\n",
    "\n",
    "Pandas SQL : https://pypi.org/project/pandasql/"
   ]
  },
  {
   "cell_type": "code",
   "execution_count": null,
   "id": "4762815e",
   "metadata": {},
   "outputs": [],
   "source": []
  },
  {
   "cell_type": "markdown",
   "id": "3c189950",
   "metadata": {},
   "source": [
    "# Day 3\n",
    "\n",
    "seaborn color map: https://seaborn.pydata.org/generated/seaborn.heatmap.html\n",
    "\n",
    "Credit risk dataset kaggle: https://www.kaggle.com/datasets/praveengovi/credit-risk-classification-dataset"
   ]
  },
  {
   "cell_type": "code",
   "execution_count": null,
   "id": "65670e6c",
   "metadata": {},
   "outputs": [],
   "source": []
  },
  {
   "cell_type": "markdown",
   "id": "18c02671",
   "metadata": {},
   "source": [
    "# Day 5\n",
    "\n",
    "word semantic: https://experiments.withgoogle.com/semantris\n",
    "\n",
    "AI generated ad by coca-cola: https://www.youtube.com/watch?v=nSmNy9iLhZ4\n",
    "\n"
   ]
  },
  {
   "cell_type": "code",
   "execution_count": null,
   "id": "3b92f299",
   "metadata": {},
   "outputs": [],
   "source": []
  },
  {
   "cell_type": "code",
   "execution_count": null,
   "id": "a99c7f82",
   "metadata": {},
   "outputs": [],
   "source": []
  },
  {
   "cell_type": "code",
   "execution_count": null,
   "id": "029303b2",
   "metadata": {},
   "outputs": [],
   "source": []
  }
 ],
 "metadata": {
  "kernelspec": {
   "display_name": "Python 3 (ipykernel)",
   "language": "python",
   "name": "python3"
  },
  "language_info": {
   "codemirror_mode": {
    "name": "ipython",
    "version": 3
   },
   "file_extension": ".py",
   "mimetype": "text/x-python",
   "name": "python",
   "nbconvert_exporter": "python",
   "pygments_lexer": "ipython3",
   "version": "3.9.12"
  }
 },
 "nbformat": 4,
 "nbformat_minor": 5
}
